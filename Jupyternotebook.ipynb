{
 "cells": [
  {
   "cell_type": "markdown",
   "id": "921037b9-d166-4bc7-a111-d3679af4da53",
   "metadata": {},
   "source": [
    "# My Jupyter Notebook"
   ]
  },
  {
   "cell_type": "markdown",
   "id": "4cef40c1-f69d-403f-8f07-01302666c670",
   "metadata": {},
   "source": [
    "**Prachi Sharma**<br>\n",
    "Data Scientist"
   ]
  },
  {
   "cell_type": "markdown",
   "id": "231cf922-7728-4f3e-a248-c4eff4c49377",
   "metadata": {},
   "source": [
    "*I want to become a Data Scientist thats why I am interested in learning data science.*"
   ]
  },
  {
   "cell_type": "markdown",
   "id": "0a48bf39-437e-40d4-8879-fec50d1103ff",
   "metadata": {},
   "source": [
    "### In the code below I have assign integer values to two variables a and b, and pritn there sum  "
   ]
  },
  {
   "cell_type": "code",
   "execution_count": 6,
   "id": "bb460514-f644-4f47-9ad4-a0d78f1f3d91",
   "metadata": {},
   "outputs": [
    {
     "name": "stdout",
     "output_type": "stream",
     "text": [
      "15\n"
     ]
    }
   ],
   "source": [
    "a=5\n",
    "b=10\n",
    "print(a+b)\n"
   ]
  },
  {
   "cell_type": "markdown",
   "id": "3f546911-ff95-4985-8b6d-8112f63cfe00",
   "metadata": {},
   "source": [
    "*  Jupyter Notebook\n",
    "*  For \n",
    "*  Data Science\n",
    "*  Learning\n",
    "\n",
    "1. My \n",
    "1. Jupyter\n",
    "1. Notebook\n",
    "\n",
    "\n",
    "~~StrikeThrough Example~~\n",
    "\n",
    "!https://upload.wikimedia.org/wikipedia/commons/thumb/3/38/Jupyter_logo.svg/1200px-Jupyter_logo.svg.png"
   ]
  },
  {
   "cell_type": "code",
   "execution_count": null,
   "id": "a1015759-6cdd-417c-a3bf-b03099e683d9",
   "metadata": {},
   "outputs": [],
   "source": []
  }
 ],
 "metadata": {
  "kernelspec": {
   "display_name": "Python",
   "language": "python",
   "name": "conda-env-python-py"
  },
  "language_info": {
   "codemirror_mode": {
    "name": "ipython",
    "version": 3
   },
   "file_extension": ".py",
   "mimetype": "text/x-python",
   "name": "python",
   "nbconvert_exporter": "python",
   "pygments_lexer": "ipython3",
   "version": "3.7.12"
  }
 },
 "nbformat": 4,
 "nbformat_minor": 5
}
